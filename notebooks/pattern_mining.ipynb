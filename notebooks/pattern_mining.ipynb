{
 "cells": [
  {
   "cell_type": "markdown",
   "metadata": {},
   "source": [
    "<span>\n",
    "<img src=\"http://www.sobigdata.eu/sites/default/files/logo-SoBigData-DEFINITIVO.png\" width=\"180px\" align=\"right\"/>\n",
    "</span>\n",
    "<span>\n",
    "<b>Author:</b> <a href=\"http://kdd.isti.cnr.it/people/riccardo-guidotti\">Riccardo Guidotti</a><br/>\n",
    "<b>Python version:</b>  3.x<br/>\n",
    "</span>"
   ]
  },
  {
   "cell_type": "code",
   "execution_count": 1,
   "metadata": {},
   "outputs": [],
   "source": [
    "%matplotlib inline\n",
    "\n",
    "import numpy as np\n",
    "import pandas as pd\n",
    "import matplotlib.pyplot as plt"
   ]
  },
  {
   "cell_type": "markdown",
   "metadata": {},
   "source": [
    "Pattern mining on relational data"
   ]
  },
  {
   "cell_type": "code",
   "execution_count": 3,
   "metadata": {},
   "outputs": [
    {
     "data": {
      "text/html": [
       "<div>\n",
       "<style scoped>\n",
       "    .dataframe tbody tr th:only-of-type {\n",
       "        vertical-align: middle;\n",
       "    }\n",
       "\n",
       "    .dataframe tbody tr th {\n",
       "        vertical-align: top;\n",
       "    }\n",
       "\n",
       "    .dataframe thead th {\n",
       "        text-align: right;\n",
       "    }\n",
       "</style>\n",
       "<table border=\"1\" class=\"dataframe\">\n",
       "  <thead>\n",
       "    <tr style=\"text-align: right;\">\n",
       "      <th></th>\n",
       "      <th>SCONTRINO_ID</th>\n",
       "      <th>COD_MKT_ID</th>\n",
       "    </tr>\n",
       "  </thead>\n",
       "  <tbody>\n",
       "    <tr>\n",
       "      <th>0</th>\n",
       "      <td>2558064013053</td>\n",
       "      <td>1580</td>\n",
       "    </tr>\n",
       "    <tr>\n",
       "      <th>1</th>\n",
       "      <td>2558064013053</td>\n",
       "      <td>1661</td>\n",
       "    </tr>\n",
       "    <tr>\n",
       "      <th>2</th>\n",
       "      <td>2558064013053</td>\n",
       "      <td>2068</td>\n",
       "    </tr>\n",
       "    <tr>\n",
       "      <th>3</th>\n",
       "      <td>2558064013053</td>\n",
       "      <td>2556</td>\n",
       "    </tr>\n",
       "    <tr>\n",
       "      <th>4</th>\n",
       "      <td>2558064013053</td>\n",
       "      <td>2650</td>\n",
       "    </tr>\n",
       "  </tbody>\n",
       "</table>\n",
       "</div>"
      ],
      "text/plain": [
       "    SCONTRINO_ID  COD_MKT_ID\n",
       "0  2558064013053        1580\n",
       "1  2558064013053        1661\n",
       "2  2558064013053        2068\n",
       "3  2558064013053        2556\n",
       "4  2558064013053        2650"
      ]
     },
     "execution_count": 3,
     "metadata": {},
     "output_type": "execute_result"
    }
   ],
   "source": [
    "df = pd.read_csv(\"data/small_transactions.csv\", \n",
    "                 skipinitialspace=True, sep=',')\n",
    "df.head()"
   ]
  },
  {
   "cell_type": "markdown",
   "metadata": {},
   "source": [
    "From relational to transactional"
   ]
  },
  {
   "cell_type": "code",
   "execution_count": 4,
   "metadata": {},
   "outputs": [
    {
     "data": {
      "text/plain": [
       "SCONTRINO_ID\n",
       "2558064013053                 [1580, 1661, 2068, 2556, 2650, 4225]\n",
       "2558064013054    [437, 1278, 1614, 2089, 2243, 2245, 2443, 2551...\n",
       "2558064013055                         [151, 595, 2650, 4600, 4872]\n",
       "2558064013056             [142, 437, 2499, 2515, 3458, 3675, 4044]\n",
       "2558064013057                                          [437, 3087]\n",
       "Name: COD_MKT_ID, dtype: object"
      ]
     },
     "execution_count": 4,
     "metadata": {},
     "output_type": "execute_result"
    }
   ],
   "source": [
    "dt = df.groupby('SCONTRINO_ID')['COD_MKT_ID'].agg(list)\n",
    "dt.head()"
   ]
  },
  {
   "cell_type": "code",
   "execution_count": 7,
   "metadata": {},
   "outputs": [],
   "source": [
    "baskets = dt.values.tolist()"
   ]
  },
  {
   "cell_type": "code",
   "execution_count": 8,
   "metadata": {},
   "outputs": [
    {
     "data": {
      "text/plain": [
       "[[1580, 1661, 2068, 2556, 2650, 4225],\n",
       " [437, 1278, 1614, 2089, 2243, 2245, 2443, 2551, 3448, 6172],\n",
       " [151, 595, 2650, 4600, 4872],\n",
       " [142, 437, 2499, 2515, 3458, 3675, 4044],\n",
       " [437, 3087],\n",
       " [445, 446, 2050, 2650, 5046],\n",
       " [483, 920, 1461, 1488, 2241, 3682, 4069, 4079, 4109, 4844, 4847],\n",
       " [1581, 2650, 2731, 3087, 4176],\n",
       " [384, 560, 2065, 2243, 2499, 4041],\n",
       " [607, 2122, 2650, 4655]]"
      ]
     },
     "execution_count": 8,
     "metadata": {},
     "output_type": "execute_result"
    }
   ],
   "source": [
    "baskets[0:10]"
   ]
  },
  {
   "cell_type": "code",
   "execution_count": 9,
   "metadata": {},
   "outputs": [],
   "source": [
    "from fim import apriori"
   ]
  },
  {
   "cell_type": "markdown",
   "metadata": {},
   "source": [
    "Extract frequent patterns"
   ]
  },
  {
   "cell_type": "code",
   "execution_count": 10,
   "metadata": {},
   "outputs": [],
   "source": [
    "itemsets = apriori(baskets, supp=1, zmin=2, target='a')\n",
    "#target='a' -> means All patterns "
   ]
  },
  {
   "cell_type": "code",
   "execution_count": 11,
   "metadata": {},
   "outputs": [
    {
     "name": "stdout",
     "output_type": "stream",
     "text": [
      "Number of itemsets: 108\n"
     ]
    }
   ],
   "source": [
    "print('Number of itemsets:', len(itemsets))"
   ]
  },
  {
   "cell_type": "code",
   "execution_count": 12,
   "metadata": {},
   "outputs": [
    {
     "data": {
      "text/plain": [
       "[((597, 599), 15),\n",
       " ((1661, 2650), 14),\n",
       " ((4228, 2650), 13),\n",
       " ((599, 622), 16),\n",
       " ((2057, 920), 13),\n",
       " ((4655, 2650), 14),\n",
       " ((2193, 445), 17),\n",
       " ((2193, 920), 20),\n",
       " ((446, 445), 21),\n",
       " ((446, 2650), 21)]"
      ]
     },
     "execution_count": 12,
     "metadata": {},
     "output_type": "execute_result"
    }
   ],
   "source": [
    "itemsets[:10]"
   ]
  },
  {
   "cell_type": "markdown",
   "metadata": {},
   "source": [
    "Extract decision rules"
   ]
  },
  {
   "cell_type": "code",
   "execution_count": 13,
   "metadata": {},
   "outputs": [],
   "source": [
    "rules = apriori(baskets, supp=1, zmin=2, target='r', conf=60, \n",
    "                report='ascl') "
   ]
  },
  {
   "cell_type": "code",
   "execution_count": 14,
   "metadata": {},
   "outputs": [
    {
     "name": "stdout",
     "output_type": "stream",
     "text": [
      "Number of rule: 9\n"
     ]
    }
   ],
   "source": [
    "print('Number of rule:', len(rules))"
   ]
  },
  {
   "cell_type": "code",
   "execution_count": 17,
   "metadata": {},
   "outputs": [
    {
     "data": {
      "text/plain": [
       "(597, (624,), 9, 0.007377049180327869, 0.6, 26.142857142857142)"
      ]
     },
     "execution_count": 17,
     "metadata": {},
     "output_type": "execute_result"
    }
   ],
   "source": [
    "rules[0] # cons, ant, [Abs supp, rel Sup, Conf, Lift] <-- report"
   ]
  },
  {
   "cell_type": "markdown",
   "metadata": {},
   "source": [
    "Print interesting rules"
   ]
  },
  {
   "cell_type": "code",
   "execution_count": 18,
   "metadata": {},
   "outputs": [
    {
     "name": "stdout",
     "output_type": "stream",
     "text": [
      "(622, (624,), 11, 0.009016393442622951, 0.7333333333333333, 19.44927536231884)\n",
      "(920, (2193, 445), 12, 0.009836065573770493, 0.7058823529411765, 5.382352941176471)\n"
     ]
    }
   ],
   "source": [
    "count = 0\n",
    "for r in rules:\n",
    "    if r[5] > 2 and r[4] > 0.7:\n",
    "        print(r)\n",
    "        count += 1\n",
    "        if count == 10:\n",
    "            break"
   ]
  },
  {
   "cell_type": "code",
   "execution_count": 19,
   "metadata": {},
   "outputs": [
    {
     "name": "stdout",
     "output_type": "stream",
     "text": [
      "Help on built-in function apriori in module fim:\n",
      "\n",
      "apriori(...)\n",
      "    apriori (tracts, target='s', supp=10, zmin=1, zmax=None, report='a',\n",
      "             eval='x', agg='x', thresh=10, prune=None, algo='b', mode='',\n",
      "             border=None)\n",
      "    Find frequent item sets with the Apriori algorithm.\n",
      "    tracts  transaction database to mine (mandatory)\n",
      "            The database must be an iterable of transactions;\n",
      "            each transaction must be an iterable of items;\n",
      "            each item must be a hashable object.\n",
      "            If the database is a dictionary, the transactions are\n",
      "            the keys, the values their (integer) multiplicities.\n",
      "    target  type of frequent item sets to find     (default: s)\n",
      "            s/a   sets/all   all     frequent item sets\n",
      "            c     closed     closed  frequent item sets\n",
      "            m     maximal    maximal frequent item sets\n",
      "            g     gens       generators\n",
      "            r     rules      association rules\n",
      "    supp    minimum support of an item set         (default: 10)\n",
      "            (positive: percentage, negative: absolute number)\n",
      "    conf    minimum confidence of an assoc. rule   (default: 80%)\n",
      "    zmin    minimum number of items per item set   (default: 1)\n",
      "    zmax    maximum number of items per item set   (default: no limit)\n",
      "    report  values to report with an item set      (default: a)\n",
      "            a     absolute item set support (number of transactions)\n",
      "            s     relative item set support as a fraction\n",
      "            S     relative item set support as a percentage\n",
      "            e     value of item set evaluation measure\n",
      "            E     value of item set evaluation measure as a percentage\n",
      "            (     combine values in a tuple (must be first character)\n",
      "            [     combine values in a list  (must be first character)\n",
      "            #     pattern spectrum as a dictionary  (no patterns)\n",
      "            =     pattern spectrum as a list        (no patterns)\n",
      "            |     pattern spectrum as three columns (no patterns)\n",
      "            for target 'r' (association rules) also available:\n",
      "            b     absolute body set  support (number of transactions)\n",
      "            x     relative body set  support as a fraction\n",
      "            X     relative body set  support as a percentage\n",
      "            h     absolute head item support (number of transactions)\n",
      "            y     relative head item support as a fraction\n",
      "            Y     relative head item support as a percentage\n",
      "            c     rule confidence as a fraction\n",
      "            C     rule confidence as a percentage\n",
      "            l     lift value of a rule (confidence/prior)\n",
      "            L     lift value of a rule as a percentage\n",
      "            Q     support of the empty set (total number of transactions)\n",
      "    eval    measure for item set evaluation        (default: x)\n",
      "            x     none       no measure / zero (default)\n",
      "            b     ldratio    binary logarithm of support quotient       (+)\n",
      "            c     conf       rule confidence                            (+)\n",
      "            d     confdiff   absolute confidence difference to prior    (+)\n",
      "            l     lift       lift value (confidence divided by prior)   (+)\n",
      "            a     liftdiff   absolute difference of lift value to 1     (+)\n",
      "            q     liftquot   difference of lift quotient to 1           (+)\n",
      "            v     cvct       conviction (inverse lift for negated head) (+)\n",
      "            e     cvctdiff   absolute difference of conviction to 1     (+)\n",
      "            r     cvctquot   difference of conviction quotient to 1     (+)\n",
      "            k     cprob      conditional probability ratio              (+)\n",
      "            j     import     importance (binary log. of prob. ratio)    (+)\n",
      "            z     cert       certainty factor (relative conf. change)   (+)\n",
      "            n     chi2       normalized chi^2 measure                   (+)\n",
      "            p     chi2pval   p-value from (unnormalized) chi^2 measure  (-)\n",
      "            y     yates      normalized chi^2 with Yates' correction    (+)\n",
      "            t     yatespval  p-value from Yates-corrected chi^2 measure (-)\n",
      "            i     info       information difference to prior            (+)\n",
      "            g     infopval   p-value from G statistic/info. difference  (-)\n",
      "            f     fetprob    Fisher's exact test (table probability)    (-)\n",
      "            h     fetchi2    Fisher's exact test (chi^2 measure)        (-)\n",
      "            m     fetinfo    Fisher's exact test (mutual information)   (-)\n",
      "            s     fetsupp    Fisher's exact test (support)              (-)\n",
      "            Measures marked with (+) must meet or exceed the threshold,\n",
      "            measures marked with (-) must not exceed the threshold\n",
      "            in order for the item set to be reported.\n",
      "    agg     evaluation measure aggregation mode    (default: x)\n",
      "            x     none       no aggregation (use first value)\n",
      "            m     min        minimum of individual measure values\n",
      "            n     max        maximum of individual measure values\n",
      "            a     avg        average of individual measure values\n",
      "    thresh  threshold for evaluation measure       (default: 10%)\n",
      "    prune   min. size for evaluation filtering     (default: no pruning)\n",
      "            = 0   backward filtering       (no subset check)\n",
      "            < 0   weak   forward filtering (one subset  must qualify)\n",
      "            > 0   strong forward filtering (all subsets must qualify)\n",
      "    algo    algorithm variant to use               (default: a)\n",
      "            b     basic      standard algorithm (only choice)\n",
      "    mode    operation mode indicators/flags        (default: None)\n",
      "            x     do not use perfect extension pruning\n",
      "            t/T   do not organize transactions as a prefix tree\n",
      "            y     a-posteriori pruning of infrequent item sets\n",
      "            z     invalidate evaluation below expected support\n",
      "            o     use original rule support definition (body & head)\n",
      "    border  support border for filtering item sets (default: None)\n",
      "            Must be a list or tuple of (absolute) minimum support values\n",
      "            per item set size (by which the list/tuple is indexed).\n",
      "    appear  dictionary mapping items to item appearance indicators,\n",
      "            with the key None referring to the default item appearance.\n",
      "            (If None does not occur as a key or no dictionary is given,\n",
      "            the default item appearance indicator is 'both'.)\n",
      "            This parameter is only used if the target type is rules.\n",
      "            * item may not appear anywhere in a rule:\n",
      "              '-', 'n', 'none', 'neither', 'ignore'\n",
      "            * item may appear only in rule body/antecedent:\n",
      "              'i', 'in', 'inp', 'input', 'b', 'body',\n",
      "              'a', 'ante', 'antecedent'\n",
      "            * item may appear only in rule head/consequent:\n",
      "              'o', 'out',      'output', 'h', 'head',\n",
      "              'c', 'cons', 'consequent'\n",
      "            * item may appear anywhere in a rule:\n",
      "              'io', 'i&o', 'inout', 'in&out', 'bh', 'b&h', 'both'\n",
      "    returns if report is not in ['#','=','|']:\n",
      "              if the target is association rules:\n",
      "                a list of rules (i.e. tuples with two or more elements),\n",
      "                each consisting of a head/consequent item, a tuple with\n",
      "                a body/antecedent item set, and the values selected by\n",
      "                the parameter 'report', which may be combined into a\n",
      "                tuple or a list if report[0] is '(' or '[', respectively.\n",
      "              if the target is a type of item sets:\n",
      "                a list of patterns (i.e. tuples with one or more elements),\n",
      "                each consisting of a tuple with a found frequent item set\n",
      "                and the values selected by the parameter 'report', which\n",
      "                may be combined into a tuple or list if report[0] is '('\n",
      "                or '[', respectively\n",
      "            if report in ['#','=','|']:\n",
      "              a pattern spectrum as a dictionary mapping pattern sizes\n",
      "              to the corresponding occurrence support ranges, as a list\n",
      "              of triplets (size, min. support, max. support) or as three\n",
      "              columns for sizes and minimum and maximum support values\n",
      "\n"
     ]
    }
   ],
   "source": [
    "help(apriori)"
   ]
  },
  {
   "cell_type": "code",
   "execution_count": null,
   "metadata": {},
   "outputs": [],
   "source": []
  },
  {
   "cell_type": "code",
   "execution_count": null,
   "metadata": {},
   "outputs": [],
   "source": []
  },
  {
   "cell_type": "code",
   "execution_count": 20,
   "metadata": {},
   "outputs": [
    {
     "data": {
      "text/plain": [
       "[1580, 1661, 2068, 2556, 2650, 4225]"
      ]
     },
     "execution_count": 20,
     "metadata": {},
     "output_type": "execute_result"
    }
   ],
   "source": [
    "baskets[0]"
   ]
  },
  {
   "cell_type": "code",
   "execution_count": 21,
   "metadata": {},
   "outputs": [
    {
     "data": {
      "text/plain": [
       "(597, (624,))"
      ]
     },
     "execution_count": 21,
     "metadata": {},
     "output_type": "execute_result"
    }
   ],
   "source": [
    "rules[0][:2]"
   ]
  },
  {
   "cell_type": "code",
   "execution_count": 23,
   "metadata": {},
   "outputs": [
    {
     "data": {
      "text/plain": [
       "{624}"
      ]
     },
     "execution_count": 23,
     "metadata": {},
     "output_type": "execute_result"
    }
   ],
   "source": [
    "set(rules[0][1])"
   ]
  },
  {
   "cell_type": "code",
   "execution_count": 25,
   "metadata": {},
   "outputs": [
    {
     "data": {
      "text/plain": [
       "{597, 599, 615, 624, 1278, 1579, 2243, 3690, 4435}"
      ]
     },
     "execution_count": 25,
     "metadata": {},
     "output_type": "execute_result"
    }
   ],
   "source": [
    "set(b)"
   ]
  },
  {
   "cell_type": "markdown",
   "metadata": {},
   "source": [
    "First basket satisying the first rule"
   ]
  },
  {
   "cell_type": "code",
   "execution_count": 22,
   "metadata": {},
   "outputs": [
    {
     "name": "stdout",
     "output_type": "stream",
     "text": [
      "[597, 599, 615, 624, 1278, 1579, 2243, 3690, 4435]\n"
     ]
    }
   ],
   "source": [
    "for b in baskets:\n",
    "    if set(rules[0][1]) < set(b):\n",
    "        print(b)\n",
    "        break"
   ]
  },
  {
   "cell_type": "code",
   "execution_count": 26,
   "metadata": {},
   "outputs": [],
   "source": [
    "r = ('10-20', ('male',))"
   ]
  },
  {
   "cell_type": "code",
   "execution_count": 27,
   "metadata": {},
   "outputs": [],
   "source": [
    "b = ['male', '1st class', '?']"
   ]
  },
  {
   "cell_type": "code",
   "execution_count": 28,
   "metadata": {},
   "outputs": [
    {
     "data": {
      "text/plain": [
       "True"
      ]
     },
     "execution_count": 28,
     "metadata": {},
     "output_type": "execute_result"
    }
   ],
   "source": [
    "set(r[1]) < set(b)"
   ]
  },
  {
   "cell_type": "markdown",
   "metadata": {},
   "source": [
    "Pattern mining on categorical data"
   ]
  },
  {
   "cell_type": "code",
   "execution_count": 39,
   "metadata": {},
   "outputs": [],
   "source": [
    "df = pd.read_csv(\"data/titanic.csv\", skipinitialspace=True, sep=',')"
   ]
  },
  {
   "cell_type": "code",
   "execution_count": 40,
   "metadata": {},
   "outputs": [
    {
     "data": {
      "text/html": [
       "<div>\n",
       "<style scoped>\n",
       "    .dataframe tbody tr th:only-of-type {\n",
       "        vertical-align: middle;\n",
       "    }\n",
       "\n",
       "    .dataframe tbody tr th {\n",
       "        vertical-align: top;\n",
       "    }\n",
       "\n",
       "    .dataframe thead th {\n",
       "        text-align: right;\n",
       "    }\n",
       "</style>\n",
       "<table border=\"1\" class=\"dataframe\">\n",
       "  <thead>\n",
       "    <tr style=\"text-align: right;\">\n",
       "      <th></th>\n",
       "      <th>PassengerId</th>\n",
       "      <th>Survived</th>\n",
       "      <th>Pclass</th>\n",
       "      <th>Name</th>\n",
       "      <th>Sex</th>\n",
       "      <th>Age</th>\n",
       "      <th>SibSp</th>\n",
       "      <th>Parch</th>\n",
       "      <th>Ticket</th>\n",
       "      <th>Fare</th>\n",
       "      <th>Cabin</th>\n",
       "      <th>Embarked</th>\n",
       "    </tr>\n",
       "  </thead>\n",
       "  <tbody>\n",
       "    <tr>\n",
       "      <th>0</th>\n",
       "      <td>1</td>\n",
       "      <td>0</td>\n",
       "      <td>3</td>\n",
       "      <td>Braund, Mr. Owen Harris</td>\n",
       "      <td>male</td>\n",
       "      <td>22.0</td>\n",
       "      <td>1</td>\n",
       "      <td>0</td>\n",
       "      <td>A/5 21171</td>\n",
       "      <td>7.2500</td>\n",
       "      <td>NaN</td>\n",
       "      <td>S</td>\n",
       "    </tr>\n",
       "    <tr>\n",
       "      <th>1</th>\n",
       "      <td>2</td>\n",
       "      <td>1</td>\n",
       "      <td>1</td>\n",
       "      <td>Cumings, Mrs. John Bradley (Florence Briggs Th...</td>\n",
       "      <td>female</td>\n",
       "      <td>38.0</td>\n",
       "      <td>1</td>\n",
       "      <td>0</td>\n",
       "      <td>PC 17599</td>\n",
       "      <td>71.2833</td>\n",
       "      <td>C85</td>\n",
       "      <td>C</td>\n",
       "    </tr>\n",
       "    <tr>\n",
       "      <th>2</th>\n",
       "      <td>3</td>\n",
       "      <td>1</td>\n",
       "      <td>3</td>\n",
       "      <td>Heikkinen, Miss. Laina</td>\n",
       "      <td>female</td>\n",
       "      <td>26.0</td>\n",
       "      <td>0</td>\n",
       "      <td>0</td>\n",
       "      <td>STON/O2. 3101282</td>\n",
       "      <td>7.9250</td>\n",
       "      <td>NaN</td>\n",
       "      <td>S</td>\n",
       "    </tr>\n",
       "    <tr>\n",
       "      <th>3</th>\n",
       "      <td>4</td>\n",
       "      <td>1</td>\n",
       "      <td>1</td>\n",
       "      <td>Futrelle, Mrs. Jacques Heath (Lily May Peel)</td>\n",
       "      <td>female</td>\n",
       "      <td>35.0</td>\n",
       "      <td>1</td>\n",
       "      <td>0</td>\n",
       "      <td>113803</td>\n",
       "      <td>53.1000</td>\n",
       "      <td>C123</td>\n",
       "      <td>S</td>\n",
       "    </tr>\n",
       "    <tr>\n",
       "      <th>4</th>\n",
       "      <td>5</td>\n",
       "      <td>0</td>\n",
       "      <td>3</td>\n",
       "      <td>Allen, Mr. William Henry</td>\n",
       "      <td>male</td>\n",
       "      <td>35.0</td>\n",
       "      <td>0</td>\n",
       "      <td>0</td>\n",
       "      <td>373450</td>\n",
       "      <td>8.0500</td>\n",
       "      <td>NaN</td>\n",
       "      <td>S</td>\n",
       "    </tr>\n",
       "  </tbody>\n",
       "</table>\n",
       "</div>"
      ],
      "text/plain": [
       "   PassengerId  Survived  Pclass  \\\n",
       "0            1         0       3   \n",
       "1            2         1       1   \n",
       "2            3         1       3   \n",
       "3            4         1       1   \n",
       "4            5         0       3   \n",
       "\n",
       "                                                Name     Sex   Age  SibSp  \\\n",
       "0                            Braund, Mr. Owen Harris    male  22.0      1   \n",
       "1  Cumings, Mrs. John Bradley (Florence Briggs Th...  female  38.0      1   \n",
       "2                             Heikkinen, Miss. Laina  female  26.0      0   \n",
       "3       Futrelle, Mrs. Jacques Heath (Lily May Peel)  female  35.0      1   \n",
       "4                           Allen, Mr. William Henry    male  35.0      0   \n",
       "\n",
       "   Parch            Ticket     Fare Cabin Embarked  \n",
       "0      0         A/5 21171   7.2500   NaN        S  \n",
       "1      0          PC 17599  71.2833   C85        C  \n",
       "2      0  STON/O2. 3101282   7.9250   NaN        S  \n",
       "3      0            113803  53.1000  C123        S  \n",
       "4      0            373450   8.0500   NaN        S  "
      ]
     },
     "execution_count": 40,
     "metadata": {},
     "output_type": "execute_result"
    }
   ],
   "source": [
    "df.head()"
   ]
  },
  {
   "cell_type": "code",
   "execution_count": 41,
   "metadata": {},
   "outputs": [
    {
     "data": {
      "text/plain": [
       "PassengerId      0\n",
       "Survived         0\n",
       "Pclass           0\n",
       "Name             0\n",
       "Sex              0\n",
       "Age            177\n",
       "SibSp            0\n",
       "Parch            0\n",
       "Ticket           0\n",
       "Fare             0\n",
       "Cabin          687\n",
       "Embarked         2\n",
       "dtype: int64"
      ]
     },
     "execution_count": 41,
     "metadata": {},
     "output_type": "execute_result"
    }
   ],
   "source": [
    "df.isnull().sum()"
   ]
  },
  {
   "cell_type": "markdown",
   "metadata": {},
   "source": [
    "Correct missing values"
   ]
  },
  {
   "cell_type": "code",
   "execution_count": 42,
   "metadata": {},
   "outputs": [
    {
     "data": {
      "text/plain": [
       "PassengerId      0\n",
       "Survived         0\n",
       "Pclass           0\n",
       "Name             0\n",
       "Sex              0\n",
       "Age              0\n",
       "SibSp            0\n",
       "Parch            0\n",
       "Ticket           0\n",
       "Fare             0\n",
       "Cabin          687\n",
       "Embarked         0\n",
       "FamilySize       0\n",
       "dtype: int64"
      ]
     },
     "execution_count": 42,
     "metadata": {},
     "output_type": "execute_result"
    }
   ],
   "source": [
    "df['Embarked'] = df['Embarked'].fillna(df['Embarked'].mode()[0])\n",
    "\n",
    "df['Age'] = df['Age'].groupby([df['Sex'], df['Pclass']]).apply(\n",
    "    lambda x: x.fillna(x.median()))\n",
    "df['FamilySize'] = df['SibSp'] + df['Parch'] + 1\n",
    "\n",
    "df.isnull().sum()"
   ]
  },
  {
   "cell_type": "markdown",
   "metadata": {},
   "source": [
    "Remove useless columns"
   ]
  },
  {
   "cell_type": "code",
   "execution_count": 43,
   "metadata": {},
   "outputs": [
    {
     "data": {
      "text/html": [
       "<div>\n",
       "<style scoped>\n",
       "    .dataframe tbody tr th:only-of-type {\n",
       "        vertical-align: middle;\n",
       "    }\n",
       "\n",
       "    .dataframe tbody tr th {\n",
       "        vertical-align: top;\n",
       "    }\n",
       "\n",
       "    .dataframe thead th {\n",
       "        text-align: right;\n",
       "    }\n",
       "</style>\n",
       "<table border=\"1\" class=\"dataframe\">\n",
       "  <thead>\n",
       "    <tr style=\"text-align: right;\">\n",
       "      <th></th>\n",
       "      <th>Survived</th>\n",
       "      <th>Pclass</th>\n",
       "      <th>Sex</th>\n",
       "      <th>Age</th>\n",
       "      <th>Fare</th>\n",
       "      <th>Embarked</th>\n",
       "      <th>FamilySize</th>\n",
       "    </tr>\n",
       "  </thead>\n",
       "  <tbody>\n",
       "    <tr>\n",
       "      <th>0</th>\n",
       "      <td>0</td>\n",
       "      <td>3</td>\n",
       "      <td>male</td>\n",
       "      <td>22.0</td>\n",
       "      <td>7.2500</td>\n",
       "      <td>S</td>\n",
       "      <td>2</td>\n",
       "    </tr>\n",
       "    <tr>\n",
       "      <th>1</th>\n",
       "      <td>1</td>\n",
       "      <td>1</td>\n",
       "      <td>female</td>\n",
       "      <td>38.0</td>\n",
       "      <td>71.2833</td>\n",
       "      <td>C</td>\n",
       "      <td>2</td>\n",
       "    </tr>\n",
       "    <tr>\n",
       "      <th>2</th>\n",
       "      <td>1</td>\n",
       "      <td>3</td>\n",
       "      <td>female</td>\n",
       "      <td>26.0</td>\n",
       "      <td>7.9250</td>\n",
       "      <td>S</td>\n",
       "      <td>1</td>\n",
       "    </tr>\n",
       "    <tr>\n",
       "      <th>3</th>\n",
       "      <td>1</td>\n",
       "      <td>1</td>\n",
       "      <td>female</td>\n",
       "      <td>35.0</td>\n",
       "      <td>53.1000</td>\n",
       "      <td>S</td>\n",
       "      <td>2</td>\n",
       "    </tr>\n",
       "    <tr>\n",
       "      <th>4</th>\n",
       "      <td>0</td>\n",
       "      <td>3</td>\n",
       "      <td>male</td>\n",
       "      <td>35.0</td>\n",
       "      <td>8.0500</td>\n",
       "      <td>S</td>\n",
       "      <td>1</td>\n",
       "    </tr>\n",
       "  </tbody>\n",
       "</table>\n",
       "</div>"
      ],
      "text/plain": [
       "   Survived  Pclass     Sex   Age     Fare Embarked  FamilySize\n",
       "0         0       3    male  22.0   7.2500        S           2\n",
       "1         1       1  female  38.0  71.2833        C           2\n",
       "2         1       3  female  26.0   7.9250        S           1\n",
       "3         1       1  female  35.0  53.1000        S           2\n",
       "4         0       3    male  35.0   8.0500        S           1"
      ]
     },
     "execution_count": 43,
     "metadata": {},
     "output_type": "execute_result"
    }
   ],
   "source": [
    "column2drop = ['PassengerId', 'Name', 'Cabin', 'SibSp', \n",
    "               'Parch', 'Ticket']\n",
    "df.drop(column2drop, axis=1, inplace=True)\n",
    "\n",
    "df.head()"
   ]
  },
  {
   "cell_type": "markdown",
   "metadata": {},
   "source": [
    "Apply binning to continuous features"
   ]
  },
  {
   "cell_type": "code",
   "execution_count": 44,
   "metadata": {},
   "outputs": [
    {
     "data": {
      "text/html": [
       "<div>\n",
       "<style scoped>\n",
       "    .dataframe tbody tr th:only-of-type {\n",
       "        vertical-align: middle;\n",
       "    }\n",
       "\n",
       "    .dataframe tbody tr th {\n",
       "        vertical-align: top;\n",
       "    }\n",
       "\n",
       "    .dataframe thead th {\n",
       "        text-align: right;\n",
       "    }\n",
       "</style>\n",
       "<table border=\"1\" class=\"dataframe\">\n",
       "  <thead>\n",
       "    <tr style=\"text-align: right;\">\n",
       "      <th></th>\n",
       "      <th>Survived</th>\n",
       "      <th>Pclass</th>\n",
       "      <th>Sex</th>\n",
       "      <th>Embarked</th>\n",
       "      <th>FamilySize</th>\n",
       "      <th>AgeBin</th>\n",
       "      <th>FareBin</th>\n",
       "    </tr>\n",
       "  </thead>\n",
       "  <tbody>\n",
       "    <tr>\n",
       "      <th>0</th>\n",
       "      <td>0</td>\n",
       "      <td>3</td>\n",
       "      <td>male</td>\n",
       "      <td>S</td>\n",
       "      <td>2</td>\n",
       "      <td>[16.0, 24.0)</td>\n",
       "      <td>[0.0, 51.2)</td>\n",
       "    </tr>\n",
       "    <tr>\n",
       "      <th>1</th>\n",
       "      <td>1</td>\n",
       "      <td>1</td>\n",
       "      <td>female</td>\n",
       "      <td>C</td>\n",
       "      <td>2</td>\n",
       "      <td>[32.0, 40.0)</td>\n",
       "      <td>[51.2, 102.4)</td>\n",
       "    </tr>\n",
       "    <tr>\n",
       "      <th>2</th>\n",
       "      <td>1</td>\n",
       "      <td>3</td>\n",
       "      <td>female</td>\n",
       "      <td>S</td>\n",
       "      <td>1</td>\n",
       "      <td>[24.0, 32.0)</td>\n",
       "      <td>[0.0, 51.2)</td>\n",
       "    </tr>\n",
       "    <tr>\n",
       "      <th>3</th>\n",
       "      <td>1</td>\n",
       "      <td>1</td>\n",
       "      <td>female</td>\n",
       "      <td>S</td>\n",
       "      <td>2</td>\n",
       "      <td>[32.0, 40.0)</td>\n",
       "      <td>[51.2, 102.4)</td>\n",
       "    </tr>\n",
       "    <tr>\n",
       "      <th>4</th>\n",
       "      <td>0</td>\n",
       "      <td>3</td>\n",
       "      <td>male</td>\n",
       "      <td>S</td>\n",
       "      <td>1</td>\n",
       "      <td>[32.0, 40.0)</td>\n",
       "      <td>[0.0, 51.2)</td>\n",
       "    </tr>\n",
       "  </tbody>\n",
       "</table>\n",
       "</div>"
      ],
      "text/plain": [
       "   Survived  Pclass     Sex Embarked  FamilySize        AgeBin        FareBin\n",
       "0         0       3    male        S           2  [16.0, 24.0)    [0.0, 51.2)\n",
       "1         1       1  female        C           2  [32.0, 40.0)  [51.2, 102.4)\n",
       "2         1       3  female        S           1  [24.0, 32.0)    [0.0, 51.2)\n",
       "3         1       1  female        S           2  [32.0, 40.0)  [51.2, 102.4)\n",
       "4         0       3    male        S           1  [32.0, 40.0)    [0.0, 51.2)"
      ]
     },
     "execution_count": 44,
     "metadata": {},
     "output_type": "execute_result"
    }
   ],
   "source": [
    "df['AgeBin'] = pd.cut(df['Age'].astype(int), 10, right=False)\n",
    "df['FareBin'] = pd.cut(df['Fare'].astype(int), 10, right=False)\n",
    "\n",
    "df.drop(['Age', 'Fare'], axis=1, inplace=True)\n",
    "\n",
    "df.head()"
   ]
  },
  {
   "cell_type": "markdown",
   "metadata": {},
   "source": [
    "Remap values"
   ]
  },
  {
   "cell_type": "code",
   "execution_count": 45,
   "metadata": {},
   "outputs": [
    {
     "data": {
      "text/html": [
       "<div>\n",
       "<style scoped>\n",
       "    .dataframe tbody tr th:only-of-type {\n",
       "        vertical-align: middle;\n",
       "    }\n",
       "\n",
       "    .dataframe tbody tr th {\n",
       "        vertical-align: top;\n",
       "    }\n",
       "\n",
       "    .dataframe thead th {\n",
       "        text-align: right;\n",
       "    }\n",
       "</style>\n",
       "<table border=\"1\" class=\"dataframe\">\n",
       "  <thead>\n",
       "    <tr style=\"text-align: right;\">\n",
       "      <th></th>\n",
       "      <th>Survived</th>\n",
       "      <th>Pclass</th>\n",
       "      <th>Sex</th>\n",
       "      <th>Embarked</th>\n",
       "      <th>FamilySize</th>\n",
       "      <th>AgeBin</th>\n",
       "      <th>FareBin</th>\n",
       "    </tr>\n",
       "  </thead>\n",
       "  <tbody>\n",
       "    <tr>\n",
       "      <th>0</th>\n",
       "      <td>Not Survived</td>\n",
       "      <td>3rd</td>\n",
       "      <td>male</td>\n",
       "      <td>S</td>\n",
       "      <td>2_Family</td>\n",
       "      <td>[16.0, 24.0)_Age</td>\n",
       "      <td>[0.0, 51.2)_Fare</td>\n",
       "    </tr>\n",
       "    <tr>\n",
       "      <th>1</th>\n",
       "      <td>Survived</td>\n",
       "      <td>1st</td>\n",
       "      <td>female</td>\n",
       "      <td>C</td>\n",
       "      <td>2_Family</td>\n",
       "      <td>[32.0, 40.0)_Age</td>\n",
       "      <td>[51.2, 102.4)_Fare</td>\n",
       "    </tr>\n",
       "    <tr>\n",
       "      <th>2</th>\n",
       "      <td>Survived</td>\n",
       "      <td>3rd</td>\n",
       "      <td>female</td>\n",
       "      <td>S</td>\n",
       "      <td>1_Family</td>\n",
       "      <td>[24.0, 32.0)_Age</td>\n",
       "      <td>[0.0, 51.2)_Fare</td>\n",
       "    </tr>\n",
       "    <tr>\n",
       "      <th>3</th>\n",
       "      <td>Survived</td>\n",
       "      <td>1st</td>\n",
       "      <td>female</td>\n",
       "      <td>S</td>\n",
       "      <td>2_Family</td>\n",
       "      <td>[32.0, 40.0)_Age</td>\n",
       "      <td>[51.2, 102.4)_Fare</td>\n",
       "    </tr>\n",
       "    <tr>\n",
       "      <th>4</th>\n",
       "      <td>Not Survived</td>\n",
       "      <td>3rd</td>\n",
       "      <td>male</td>\n",
       "      <td>S</td>\n",
       "      <td>1_Family</td>\n",
       "      <td>[32.0, 40.0)_Age</td>\n",
       "      <td>[0.0, 51.2)_Fare</td>\n",
       "    </tr>\n",
       "  </tbody>\n",
       "</table>\n",
       "</div>"
      ],
      "text/plain": [
       "       Survived Pclass     Sex Embarked FamilySize            AgeBin  \\\n",
       "0  Not Survived    3rd    male        S   2_Family  [16.0, 24.0)_Age   \n",
       "1      Survived    1st  female        C   2_Family  [32.0, 40.0)_Age   \n",
       "2      Survived    3rd  female        S   1_Family  [24.0, 32.0)_Age   \n",
       "3      Survived    1st  female        S   2_Family  [32.0, 40.0)_Age   \n",
       "4  Not Survived    3rd    male        S   1_Family  [32.0, 40.0)_Age   \n",
       "\n",
       "              FareBin  \n",
       "0    [0.0, 51.2)_Fare  \n",
       "1  [51.2, 102.4)_Fare  \n",
       "2    [0.0, 51.2)_Fare  \n",
       "3  [51.2, 102.4)_Fare  \n",
       "4    [0.0, 51.2)_Fare  "
      ]
     },
     "execution_count": 45,
     "metadata": {},
     "output_type": "execute_result"
    }
   ],
   "source": [
    "df['Survived'] = df['Survived'].map(\n",
    "    {0: 'Not Survived', 1: 'Survived'}).astype(str)\n",
    "df['Pclass'] = df['Pclass'].map(\n",
    "    {1: '1st', 2: '2nd', 3: '3rd'}).astype(str)\n",
    "\n",
    "df['FamilySize'] = df['FamilySize'].astype(str) + '_Family'\n",
    "df['AgeBin'] = df['AgeBin'].astype(str) + '_Age'\n",
    "df['FareBin'] = df['FareBin'].astype(str) + '_Fare'\n",
    "\n",
    "df.head()"
   ]
  },
  {
   "cell_type": "code",
   "execution_count": 46,
   "metadata": {},
   "outputs": [],
   "source": [
    "baskets = df.values.tolist()"
   ]
  },
  {
   "cell_type": "code",
   "execution_count": 47,
   "metadata": {},
   "outputs": [
    {
     "data": {
      "text/plain": [
       "['Not Survived',\n",
       " '3rd',\n",
       " 'male',\n",
       " 'S',\n",
       " '2_Family',\n",
       " '[16.0, 24.0)_Age',\n",
       " '[0.0, 51.2)_Fare']"
      ]
     },
     "execution_count": 47,
     "metadata": {},
     "output_type": "execute_result"
    }
   ],
   "source": [
    "baskets[0]"
   ]
  },
  {
   "cell_type": "code",
   "execution_count": 25,
   "metadata": {},
   "outputs": [],
   "source": [
    "itemsets = apriori(baskets, supp=1, zmin=2, target='a') "
   ]
  },
  {
   "cell_type": "code",
   "execution_count": 26,
   "metadata": {},
   "outputs": [
    {
     "name": "stdout",
     "output_type": "stream",
     "text": [
      "Number of itemsets: 2146\n"
     ]
    }
   ],
   "source": [
    "print('Number of itemsets:', len(itemsets))"
   ]
  },
  {
   "cell_type": "code",
   "execution_count": 27,
   "metadata": {},
   "outputs": [
    {
     "data": {
      "text/plain": [
       "[(('[204.8, 256.0)_Fare', '1st'), 11),\n",
       " (('[64.0, 72.0)_Age', 'Not Survived', 'male'), 11),\n",
       " (('[64.0, 72.0)_Age', 'Not Survived'), 11),\n",
       " (('[64.0, 72.0)_Age', 'male'), 11),\n",
       " (('7_Family', '3rd', 'S', '[0.0, 51.2)_Fare'), 12),\n",
       " (('7_Family', '3rd', 'S'), 12),\n",
       " (('7_Family', '3rd', '[0.0, 51.2)_Fare'), 12),\n",
       " (('7_Family', '3rd'), 12),\n",
       " (('7_Family', 'S', '[0.0, 51.2)_Fare'), 12),\n",
       " (('7_Family', 'S'), 12)]"
      ]
     },
     "execution_count": 27,
     "metadata": {},
     "output_type": "execute_result"
    }
   ],
   "source": [
    "itemsets[:10]"
   ]
  },
  {
   "cell_type": "code",
   "execution_count": 28,
   "metadata": {},
   "outputs": [],
   "source": [
    "rules = apriori(baskets, supp=10, zmin=2, target='r', conf=60, \n",
    "                report='ascl') "
   ]
  },
  {
   "cell_type": "code",
   "execution_count": 29,
   "metadata": {},
   "outputs": [
    {
     "name": "stdout",
     "output_type": "stream",
     "text": [
      "Number of rule: 590\n"
     ]
    }
   ],
   "source": [
    "print('Number of rule:', len(rules))"
   ]
  },
  {
   "cell_type": "code",
   "execution_count": 30,
   "metadata": {},
   "outputs": [
    {
     "name": "stdout",
     "output_type": "stream",
     "text": [
      "('Survived', ('[51.2, 102.4)_Fare',), 68, 0.07631874298540965, 0.6601941747572816, 1.719979560551865)\n",
      "('Survived', ('[16.0, 24.0)_Age', 'female'), 68, 0.07631874298540965, 0.68, 1.7715789473684211)\n",
      "('Survived', ('1st', 'female'), 91, 0.10213243546576879, 0.9680851063829787, 2.5221164613661813)\n",
      "('Survived', ('1st',), 136, 0.1526374859708193, 0.6296296296296297, 1.6403508771929824)\n",
      "('Survived', ('female', '1_Family', '[0.0, 51.2)_Fare'), 73, 0.0819304152637486, 0.73, 1.901842105263158)\n",
      "('Survived', ('female', '1_Family'), 99, 0.1111111111111111, 0.7857142857142857, 2.0469924812030076)\n",
      "('Survived', ('female', 'S', '[0.0, 51.2)_Fare'), 100, 0.1122334455667789, 0.6329113924050633, 1.6489007328447702)\n",
      "('Survived', ('female', 'S'), 142, 0.15937149270482603, 0.6926829268292682, 1.8046213093709884)\n",
      "('Survived', ('female', '[0.0, 51.2)_Fare'), 153, 0.1717171717171717, 0.6681222707423581, 1.7406343369340382)\n",
      "('Survived', ('female',), 233, 0.2615039281705948, 0.7420382165605095, 1.9332048273550118)\n"
     ]
    }
   ],
   "source": [
    "for r in rules:\n",
    "    if r[0] == 'Survived':\n",
    "        print(r)"
   ]
  },
  {
   "cell_type": "code",
   "execution_count": 31,
   "metadata": {},
   "outputs": [
    {
     "data": {
      "text/plain": [
       "{'[40.0, 48.0)_Age'}"
      ]
     },
     "execution_count": 31,
     "metadata": {},
     "output_type": "execute_result"
    }
   ],
   "source": [
    "set(rules[0][1])"
   ]
  },
  {
   "cell_type": "code",
   "execution_count": null,
   "metadata": {},
   "outputs": [],
   "source": []
  }
 ],
 "metadata": {
  "kernelspec": {
   "display_name": "Python 3",
   "language": "python",
   "name": "python3"
  },
  "language_info": {
   "codemirror_mode": {
    "name": "ipython",
    "version": 3
   },
   "file_extension": ".py",
   "mimetype": "text/x-python",
   "name": "python",
   "nbconvert_exporter": "python",
   "pygments_lexer": "ipython3",
   "version": "3.7.1"
  }
 },
 "nbformat": 4,
 "nbformat_minor": 2
}
